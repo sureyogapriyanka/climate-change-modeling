{
 "cells": [
  {
   "cell_type": "code",
   "execution_count": 7,
   "id": "80034e06-5ac1-4189-a91a-f3bd6523cc89",
   "metadata": {},
   "outputs": [
    {
     "name": "stdout",
     "output_type": "stream",
     "text": [
      "Shape: (522, 5)\n"
     ]
    },
    {
     "data": {
      "text/html": [
       "<div>\n",
       "<style scoped>\n",
       "    .dataframe tbody tr th:only-of-type {\n",
       "        vertical-align: middle;\n",
       "    }\n",
       "\n",
       "    .dataframe tbody tr th {\n",
       "        vertical-align: top;\n",
       "    }\n",
       "\n",
       "    .dataframe thead th {\n",
       "        text-align: right;\n",
       "    }\n",
       "</style>\n",
       "<table border=\"1\" class=\"dataframe\">\n",
       "  <thead>\n",
       "    <tr style=\"text-align: right;\">\n",
       "      <th></th>\n",
       "      <th>date</th>\n",
       "      <th>likesCount</th>\n",
       "      <th>profileName</th>\n",
       "      <th>commentsCount</th>\n",
       "      <th>text</th>\n",
       "    </tr>\n",
       "  </thead>\n",
       "  <tbody>\n",
       "    <tr>\n",
       "      <th>0</th>\n",
       "      <td>2022-09-07T17:12:32.000Z</td>\n",
       "      <td>2</td>\n",
       "      <td>4dca617d86b3fdce80ba7e81fb16e048c9cd9798cdfd6d...</td>\n",
       "      <td>NaN</td>\n",
       "      <td>Neat comparison I have not heard it before.\\n ...</td>\n",
       "    </tr>\n",
       "    <tr>\n",
       "      <th>1</th>\n",
       "      <td>2022-09-08T14:51:13.000Z</td>\n",
       "      <td>0</td>\n",
       "      <td>518ab97f2d115ba5b6f03b2fba2ef2b120540c9681288b...</td>\n",
       "      <td>NaN</td>\n",
       "      <td>An excellent way to visualise the invisible! T...</td>\n",
       "    </tr>\n",
       "    <tr>\n",
       "      <th>2</th>\n",
       "      <td>2022-09-07T17:19:41.000Z</td>\n",
       "      <td>1</td>\n",
       "      <td>d82e8e24eb633fd625b0aef9b3cb625cfb044ceb8483e1...</td>\n",
       "      <td>3.0</td>\n",
       "      <td>Does the CO2/ghg in the troposphere affect the...</td>\n",
       "    </tr>\n",
       "    <tr>\n",
       "      <th>3</th>\n",
       "      <td>2022-09-08T00:51:30.000Z</td>\n",
       "      <td>4</td>\n",
       "      <td>37a509fa0b5177a2233c7e2d0e2b2d6916695fa9fba3f2...</td>\n",
       "      <td>NaN</td>\n",
       "      <td>excellent post! I defo feel the difference - o...</td>\n",
       "    </tr>\n",
       "    <tr>\n",
       "      <th>4</th>\n",
       "      <td>2022-09-07T19:06:20.000Z</td>\n",
       "      <td>16</td>\n",
       "      <td>e54fbbd42a729af9d04d9a5cc1f9bbfe8081a31c219ecb...</td>\n",
       "      <td>26.0</td>\n",
       "      <td>Yes, and carbon dioxide does not harm the Eart...</td>\n",
       "    </tr>\n",
       "  </tbody>\n",
       "</table>\n",
       "</div>"
      ],
      "text/plain": [
       "                       date  likesCount  \\\n",
       "0  2022-09-07T17:12:32.000Z           2   \n",
       "1  2022-09-08T14:51:13.000Z           0   \n",
       "2  2022-09-07T17:19:41.000Z           1   \n",
       "3  2022-09-08T00:51:30.000Z           4   \n",
       "4  2022-09-07T19:06:20.000Z          16   \n",
       "\n",
       "                                         profileName  commentsCount  \\\n",
       "0  4dca617d86b3fdce80ba7e81fb16e048c9cd9798cdfd6d...            NaN   \n",
       "1  518ab97f2d115ba5b6f03b2fba2ef2b120540c9681288b...            NaN   \n",
       "2  d82e8e24eb633fd625b0aef9b3cb625cfb044ceb8483e1...            3.0   \n",
       "3  37a509fa0b5177a2233c7e2d0e2b2d6916695fa9fba3f2...            NaN   \n",
       "4  e54fbbd42a729af9d04d9a5cc1f9bbfe8081a31c219ecb...           26.0   \n",
       "\n",
       "                                                text  \n",
       "0  Neat comparison I have not heard it before.\\n ...  \n",
       "1  An excellent way to visualise the invisible! T...  \n",
       "2  Does the CO2/ghg in the troposphere affect the...  \n",
       "3  excellent post! I defo feel the difference - o...  \n",
       "4  Yes, and carbon dioxide does not harm the Eart...  "
      ]
     },
     "metadata": {},
     "output_type": "display_data"
    }
   ],
   "source": [
    "# ---------- imports ----------\n",
    "import pandas as pd, numpy as np\n",
    "from pathlib import Path\n",
    "from sklearn.preprocessing import StandardScaler, LabelEncoder\n",
    "\n",
    "# ---------- path setup ----------\n",
    "csv_path = Path(r\"C:\\Users\\SIMBY\\Documents\\climate_nasa.csv\")\n",
    "\n",
    "# ---------- load ----------\n",
    "df = pd.read_csv(csv_path)\n",
    "print(\"Shape:\", df.shape)\n",
    "display(df.head())\n"
   ]
  },
  {
   "cell_type": "code",
   "execution_count": 8,
   "id": "ed0cfe5e-6f51-45e8-820c-2ff4bffc2978",
   "metadata": {},
   "outputs": [
    {
     "name": "stdout",
     "output_type": "stream",
     "text": [
      "Missing values before:\n",
      " date               0\n",
      "likesCount         0\n",
      "profileName        0\n",
      "commentsCount    278\n",
      "text              18\n",
      "dtype: int64\n",
      "Missing values after:\n",
      " date             0\n",
      "likesCount       0\n",
      "profileName      0\n",
      "commentsCount    0\n",
      "text             0\n",
      "dtype: int64\n"
     ]
    }
   ],
   "source": [
    "# ---------- missing values ----------\n",
    "print(\"Missing values before:\\n\", df.isna().sum())\n",
    "\n",
    "df['text'] = df['text'].fillna(\"\")  # replace missing text with empty\n",
    "df['profileName'] = df['profileName'].fillna(\"Unknown\")\n",
    "\n",
    "# fill numeric with 0\n",
    "df['likesCount'] = df['likesCount'].fillna(0)\n",
    "df['commentsCount'] = df['commentsCount'].fillna(0)\n",
    "\n",
    "print(\"Missing values after:\\n\", df.isna().sum())\n"
   ]
  },
  {
   "cell_type": "code",
   "execution_count": 9,
   "id": "e5f38d65-5e80-49a8-b9e0-f065f25ab7fd",
   "metadata": {},
   "outputs": [
    {
     "data": {
      "text/html": [
       "<div>\n",
       "<style scoped>\n",
       "    .dataframe tbody tr th:only-of-type {\n",
       "        vertical-align: middle;\n",
       "    }\n",
       "\n",
       "    .dataframe tbody tr th {\n",
       "        vertical-align: top;\n",
       "    }\n",
       "\n",
       "    .dataframe thead th {\n",
       "        text-align: right;\n",
       "    }\n",
       "</style>\n",
       "<table border=\"1\" class=\"dataframe\">\n",
       "  <thead>\n",
       "    <tr style=\"text-align: right;\">\n",
       "      <th></th>\n",
       "      <th>date</th>\n",
       "      <th>year</th>\n",
       "      <th>month</th>\n",
       "      <th>day</th>\n",
       "      <th>weekday</th>\n",
       "    </tr>\n",
       "  </thead>\n",
       "  <tbody>\n",
       "    <tr>\n",
       "      <th>0</th>\n",
       "      <td>2022-09-07 17:12:32+00:00</td>\n",
       "      <td>2022</td>\n",
       "      <td>9</td>\n",
       "      <td>7</td>\n",
       "      <td>2</td>\n",
       "    </tr>\n",
       "    <tr>\n",
       "      <th>1</th>\n",
       "      <td>2022-09-08 14:51:13+00:00</td>\n",
       "      <td>2022</td>\n",
       "      <td>9</td>\n",
       "      <td>8</td>\n",
       "      <td>3</td>\n",
       "    </tr>\n",
       "    <tr>\n",
       "      <th>2</th>\n",
       "      <td>2022-09-07 17:19:41+00:00</td>\n",
       "      <td>2022</td>\n",
       "      <td>9</td>\n",
       "      <td>7</td>\n",
       "      <td>2</td>\n",
       "    </tr>\n",
       "    <tr>\n",
       "      <th>3</th>\n",
       "      <td>2022-09-08 00:51:30+00:00</td>\n",
       "      <td>2022</td>\n",
       "      <td>9</td>\n",
       "      <td>8</td>\n",
       "      <td>3</td>\n",
       "    </tr>\n",
       "    <tr>\n",
       "      <th>4</th>\n",
       "      <td>2022-09-07 19:06:20+00:00</td>\n",
       "      <td>2022</td>\n",
       "      <td>9</td>\n",
       "      <td>7</td>\n",
       "      <td>2</td>\n",
       "    </tr>\n",
       "  </tbody>\n",
       "</table>\n",
       "</div>"
      ],
      "text/plain": [
       "                       date  year  month  day  weekday\n",
       "0 2022-09-07 17:12:32+00:00  2022      9    7        2\n",
       "1 2022-09-08 14:51:13+00:00  2022      9    8        3\n",
       "2 2022-09-07 17:19:41+00:00  2022      9    7        2\n",
       "3 2022-09-08 00:51:30+00:00  2022      9    8        3\n",
       "4 2022-09-07 19:06:20+00:00  2022      9    7        2"
      ]
     },
     "metadata": {},
     "output_type": "display_data"
    }
   ],
   "source": [
    "# ---------- date features ----------\n",
    "df['date'] = pd.to_datetime(df['date'], errors='coerce')\n",
    "\n",
    "df['year'] = df['date'].dt.year\n",
    "df['month'] = df['date'].dt.month\n",
    "df['day'] = df['date'].dt.day\n",
    "df['weekday'] = df['date'].dt.weekday\n",
    "\n",
    "display(df[['date','year','month','day','weekday']].head())\n"
   ]
  },
  {
   "cell_type": "code",
   "execution_count": 10,
   "id": "b7515559-8762-4aa9-9182-cc5bd8ffa477",
   "metadata": {},
   "outputs": [
    {
     "data": {
      "text/html": [
       "<div>\n",
       "<style scoped>\n",
       "    .dataframe tbody tr th:only-of-type {\n",
       "        vertical-align: middle;\n",
       "    }\n",
       "\n",
       "    .dataframe tbody tr th {\n",
       "        vertical-align: top;\n",
       "    }\n",
       "\n",
       "    .dataframe thead th {\n",
       "        text-align: right;\n",
       "    }\n",
       "</style>\n",
       "<table border=\"1\" class=\"dataframe\">\n",
       "  <thead>\n",
       "    <tr style=\"text-align: right;\">\n",
       "      <th></th>\n",
       "      <th>profileName</th>\n",
       "      <th>profile_encoded</th>\n",
       "    </tr>\n",
       "  </thead>\n",
       "  <tbody>\n",
       "    <tr>\n",
       "      <th>0</th>\n",
       "      <td>4dca617d86b3fdce80ba7e81fb16e048c9cd9798cdfd6d...</td>\n",
       "      <td>146</td>\n",
       "    </tr>\n",
       "    <tr>\n",
       "      <th>1</th>\n",
       "      <td>518ab97f2d115ba5b6f03b2fba2ef2b120540c9681288b...</td>\n",
       "      <td>156</td>\n",
       "    </tr>\n",
       "    <tr>\n",
       "      <th>2</th>\n",
       "      <td>d82e8e24eb633fd625b0aef9b3cb625cfb044ceb8483e1...</td>\n",
       "      <td>410</td>\n",
       "    </tr>\n",
       "    <tr>\n",
       "      <th>3</th>\n",
       "      <td>37a509fa0b5177a2233c7e2d0e2b2d6916695fa9fba3f2...</td>\n",
       "      <td>106</td>\n",
       "    </tr>\n",
       "    <tr>\n",
       "      <th>4</th>\n",
       "      <td>e54fbbd42a729af9d04d9a5cc1f9bbfe8081a31c219ecb...</td>\n",
       "      <td>435</td>\n",
       "    </tr>\n",
       "  </tbody>\n",
       "</table>\n",
       "</div>"
      ],
      "text/plain": [
       "                                         profileName  profile_encoded\n",
       "0  4dca617d86b3fdce80ba7e81fb16e048c9cd9798cdfd6d...              146\n",
       "1  518ab97f2d115ba5b6f03b2fba2ef2b120540c9681288b...              156\n",
       "2  d82e8e24eb633fd625b0aef9b3cb625cfb044ceb8483e1...              410\n",
       "3  37a509fa0b5177a2233c7e2d0e2b2d6916695fa9fba3f2...              106\n",
       "4  e54fbbd42a729af9d04d9a5cc1f9bbfe8081a31c219ecb...              435"
      ]
     },
     "metadata": {},
     "output_type": "display_data"
    }
   ],
   "source": [
    "# ---------- encode categorical ----------\n",
    "encoder = LabelEncoder()\n",
    "df['profile_encoded'] = encoder.fit_transform(df['profileName'])\n",
    "\n",
    "display(df[['profileName','profile_encoded']].head())\n"
   ]
  },
  {
   "cell_type": "code",
   "execution_count": 11,
   "id": "3066a96f-bca8-4cc0-a714-ce480b20ed55",
   "metadata": {},
   "outputs": [
    {
     "name": "stdout",
     "output_type": "stream",
     "text": [
      "TF-IDF shape: (522, 500)\n"
     ]
    }
   ],
   "source": [
    "from sklearn.feature_extraction.text import TfidfVectorizer\n",
    "\n",
    "# ---------- text features ----------\n",
    "tfidf = TfidfVectorizer(max_features=500, stop_words='english')\n",
    "X_text = tfidf.fit_transform(df['text'])\n",
    "\n",
    "print(\"TF-IDF shape:\", X_text.shape)\n"
   ]
  },
  {
   "cell_type": "code",
   "execution_count": 12,
   "id": "4ee5176b-d505-4227-b15d-bfa3460c6eff",
   "metadata": {},
   "outputs": [
    {
     "name": "stdout",
     "output_type": "stream",
     "text": [
      "Final feature matrix: (522, 506)\n",
      "Target shape: (522,)\n"
     ]
    }
   ],
   "source": [
    "from scipy.sparse import hstack\n",
    "\n",
    "# choose target variable (likesCount for now)\n",
    "target = \"likesCount\"\n",
    "\n",
    "X_meta = df[['commentsCount','year','month','day','weekday','profile_encoded']]\n",
    "y = df[target]\n",
    "\n",
    "# combine text + meta features\n",
    "X_final = hstack([X_text, X_meta.values])\n",
    "\n",
    "print(\"Final feature matrix:\", X_final.shape)\n",
    "print(\"Target shape:\", y.shape)\n"
   ]
  },
  {
   "cell_type": "code",
   "execution_count": 13,
   "id": "f676476d-2f1d-4a14-bc4e-f0ceead8dd74",
   "metadata": {},
   "outputs": [
    {
     "name": "stdout",
     "output_type": "stream",
     "text": [
      "Processed dataset saved: data\\processed\\social_processed.csv\n"
     ]
    }
   ],
   "source": [
    "# save only metadata + target (text is TF-IDF, saved separately if needed)\n",
    "processed_path = Path(\"data/processed/social_processed.csv\")\n",
    "processed_path.parent.mkdir(parents=True, exist_ok=True)\n",
    "df.to_csv(processed_path, index=False)\n",
    "\n",
    "print(\"Processed dataset saved:\", processed_path)\n"
   ]
  },
  {
   "cell_type": "code",
   "execution_count": null,
   "id": "c113ac88-1734-49df-be4f-a91b6e6d2018",
   "metadata": {},
   "outputs": [],
   "source": []
  }
 ],
 "metadata": {
  "kernelspec": {
   "display_name": "Python [conda env:base] *",
   "language": "python",
   "name": "conda-base-py"
  },
  "language_info": {
   "codemirror_mode": {
    "name": "ipython",
    "version": 3
   },
   "file_extension": ".py",
   "mimetype": "text/x-python",
   "name": "python",
   "nbconvert_exporter": "python",
   "pygments_lexer": "ipython3",
   "version": "3.13.5"
  }
 },
 "nbformat": 4,
 "nbformat_minor": 5
}
