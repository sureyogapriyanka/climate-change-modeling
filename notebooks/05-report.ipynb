{
 "cells": [
  {
   "cell_type": "code",
   "execution_count": 7,
   "id": "890b4bba-b881-4cf0-aaa8-4d8d41d031f3",
   "metadata": {},
   "outputs": [
    {
     "name": "stdout",
     "output_type": "stream",
     "text": [
      "Shape: (522, 5)\n"
     ]
    },
    {
     "data": {
      "text/html": [
       "<div>\n",
       "<style scoped>\n",
       "    .dataframe tbody tr th:only-of-type {\n",
       "        vertical-align: middle;\n",
       "    }\n",
       "\n",
       "    .dataframe tbody tr th {\n",
       "        vertical-align: top;\n",
       "    }\n",
       "\n",
       "    .dataframe thead th {\n",
       "        text-align: right;\n",
       "    }\n",
       "</style>\n",
       "<table border=\"1\" class=\"dataframe\">\n",
       "  <thead>\n",
       "    <tr style=\"text-align: right;\">\n",
       "      <th></th>\n",
       "      <th>date</th>\n",
       "      <th>likesCount</th>\n",
       "      <th>profileName</th>\n",
       "      <th>commentsCount</th>\n",
       "      <th>text</th>\n",
       "    </tr>\n",
       "  </thead>\n",
       "  <tbody>\n",
       "    <tr>\n",
       "      <th>0</th>\n",
       "      <td>2022-09-07T17:12:32.000Z</td>\n",
       "      <td>2</td>\n",
       "      <td>4dca617d86b3fdce80ba7e81fb16e048c9cd9798cdfd6d...</td>\n",
       "      <td>NaN</td>\n",
       "      <td>Neat comparison I have not heard it before.\\n ...</td>\n",
       "    </tr>\n",
       "    <tr>\n",
       "      <th>1</th>\n",
       "      <td>2022-09-08T14:51:13.000Z</td>\n",
       "      <td>0</td>\n",
       "      <td>518ab97f2d115ba5b6f03b2fba2ef2b120540c9681288b...</td>\n",
       "      <td>NaN</td>\n",
       "      <td>An excellent way to visualise the invisible! T...</td>\n",
       "    </tr>\n",
       "    <tr>\n",
       "      <th>2</th>\n",
       "      <td>2022-09-07T17:19:41.000Z</td>\n",
       "      <td>1</td>\n",
       "      <td>d82e8e24eb633fd625b0aef9b3cb625cfb044ceb8483e1...</td>\n",
       "      <td>3.0</td>\n",
       "      <td>Does the CO2/ghg in the troposphere affect the...</td>\n",
       "    </tr>\n",
       "    <tr>\n",
       "      <th>3</th>\n",
       "      <td>2022-09-08T00:51:30.000Z</td>\n",
       "      <td>4</td>\n",
       "      <td>37a509fa0b5177a2233c7e2d0e2b2d6916695fa9fba3f2...</td>\n",
       "      <td>NaN</td>\n",
       "      <td>excellent post! I defo feel the difference - o...</td>\n",
       "    </tr>\n",
       "    <tr>\n",
       "      <th>4</th>\n",
       "      <td>2022-09-07T19:06:20.000Z</td>\n",
       "      <td>16</td>\n",
       "      <td>e54fbbd42a729af9d04d9a5cc1f9bbfe8081a31c219ecb...</td>\n",
       "      <td>26.0</td>\n",
       "      <td>Yes, and carbon dioxide does not harm the Eart...</td>\n",
       "    </tr>\n",
       "  </tbody>\n",
       "</table>\n",
       "</div>"
      ],
      "text/plain": [
       "                       date  likesCount  \\\n",
       "0  2022-09-07T17:12:32.000Z           2   \n",
       "1  2022-09-08T14:51:13.000Z           0   \n",
       "2  2022-09-07T17:19:41.000Z           1   \n",
       "3  2022-09-08T00:51:30.000Z           4   \n",
       "4  2022-09-07T19:06:20.000Z          16   \n",
       "\n",
       "                                         profileName  commentsCount  \\\n",
       "0  4dca617d86b3fdce80ba7e81fb16e048c9cd9798cdfd6d...            NaN   \n",
       "1  518ab97f2d115ba5b6f03b2fba2ef2b120540c9681288b...            NaN   \n",
       "2  d82e8e24eb633fd625b0aef9b3cb625cfb044ceb8483e1...            3.0   \n",
       "3  37a509fa0b5177a2233c7e2d0e2b2d6916695fa9fba3f2...            NaN   \n",
       "4  e54fbbd42a729af9d04d9a5cc1f9bbfe8081a31c219ecb...           26.0   \n",
       "\n",
       "                                                text  \n",
       "0  Neat comparison I have not heard it before.\\n ...  \n",
       "1  An excellent way to visualise the invisible! T...  \n",
       "2  Does the CO2/ghg in the troposphere affect the...  \n",
       "3  excellent post! I defo feel the difference - o...  \n",
       "4  Yes, and carbon dioxide does not harm the Eart...  "
      ]
     },
     "metadata": {},
     "output_type": "display_data"
    }
   ],
   "source": [
    "# ---------- imports ----------\n",
    "import pandas as pd, numpy as np\n",
    "from pathlib import Path\n",
    "import matplotlib.pyplot as plt, seaborn as sns\n",
    "from sklearn.model_selection import train_test_split\n",
    "from sklearn.linear_model import LinearRegression\n",
    "from sklearn.ensemble import RandomForestRegressor, GradientBoostingRegressor\n",
    "from sklearn.metrics import mean_absolute_error, mean_squared_error, r2_score\n",
    "from sklearn.preprocessing import LabelEncoder\n",
    "from sklearn.feature_extraction.text import TfidfVectorizer\n",
    "from scipy.sparse import hstack\n",
    "\n",
    "# ---------- setup paths ----------\n",
    "csv_path = Path(r\"C:\\Users\\SIMBY\\Documents\\climate_nasa.csv\")\n",
    "reports_dir = Path(\"reports\")\n",
    "(reports_dir / \"figures\").mkdir(parents=True, exist_ok=True)\n",
    "(reports_dir / \"tables\").mkdir(parents=True, exist_ok=True)\n",
    "(reports_dir / \"pdf\").mkdir(parents=True, exist_ok=True)\n",
    "\n",
    "# ---------- load ----------\n",
    "df = pd.read_csv(csv_path)\n",
    "print(\"Shape:\", df.shape)\n",
    "display(df.head())\n"
   ]
  },
  {
   "cell_type": "code",
   "execution_count": 8,
   "id": "407706ab-5c20-4b09-aebc-344dcc9bc751",
   "metadata": {},
   "outputs": [],
   "source": [
    "# ---------- handle missing ----------\n",
    "df['text'] = df['text'].fillna(\"\")\n",
    "df['profileName'] = df['profileName'].fillna(\"Unknown\")\n",
    "df['likesCount'] = df['likesCount'].fillna(0)\n",
    "df['commentsCount'] = df['commentsCount'].fillna(0)\n",
    "\n",
    "# ---------- date features ----------\n",
    "df['date'] = pd.to_datetime(df['date'], errors='coerce')\n",
    "df['year'] = df['date'].dt.year\n",
    "df['month'] = df['date'].dt.month\n",
    "df['day'] = df['date'].dt.day\n",
    "df['weekday'] = df['date'].dt.weekday\n",
    "\n",
    "# ---------- encode profile ----------\n",
    "encoder = LabelEncoder()\n",
    "df['profile_encoded'] = encoder.fit_transform(df['profileName'])\n",
    "\n",
    "# ---------- text vectorization ----------\n",
    "tfidf = TfidfVectorizer(max_features=500, stop_words='english')\n",
    "X_text = tfidf.fit_transform(df['text'])\n",
    "\n",
    "# ---------- final features ----------\n",
    "target = \"likesCount\"\n",
    "X_meta = df[['commentsCount','year','month','day','weekday','profile_encoded']]\n",
    "y = df[target]\n",
    "X_final = hstack([X_text, X_meta.values])\n"
   ]
  },
  {
   "cell_type": "code",
   "execution_count": 10,
   "id": "3a58ae29-fdbd-4bbb-95d9-57ee3dfecb3a",
   "metadata": {},
   "outputs": [
    {
     "data": {
      "text/html": [
       "<div>\n",
       "<style scoped>\n",
       "    .dataframe tbody tr th:only-of-type {\n",
       "        vertical-align: middle;\n",
       "    }\n",
       "\n",
       "    .dataframe tbody tr th {\n",
       "        vertical-align: top;\n",
       "    }\n",
       "\n",
       "    .dataframe thead th {\n",
       "        text-align: right;\n",
       "    }\n",
       "</style>\n",
       "<table border=\"1\" class=\"dataframe\">\n",
       "  <thead>\n",
       "    <tr style=\"text-align: right;\">\n",
       "      <th></th>\n",
       "      <th>MAE</th>\n",
       "      <th>RMSE</th>\n",
       "      <th>R2</th>\n",
       "    </tr>\n",
       "  </thead>\n",
       "  <tbody>\n",
       "    <tr>\n",
       "      <th>Linear Regression</th>\n",
       "      <td>19.181995</td>\n",
       "      <td>28.888850</td>\n",
       "      <td>-3.644972</td>\n",
       "    </tr>\n",
       "    <tr>\n",
       "      <th>Random Forest</th>\n",
       "      <td>5.618381</td>\n",
       "      <td>15.034011</td>\n",
       "      <td>-0.257976</td>\n",
       "    </tr>\n",
       "    <tr>\n",
       "      <th>Gradient Boosting</th>\n",
       "      <td>6.589283</td>\n",
       "      <td>16.474342</td>\n",
       "      <td>-0.510563</td>\n",
       "    </tr>\n",
       "  </tbody>\n",
       "</table>\n",
       "</div>"
      ],
      "text/plain": [
       "                         MAE       RMSE        R2\n",
       "Linear Regression  19.181995  28.888850 -3.644972\n",
       "Random Forest       5.618381  15.034011 -0.257976\n",
       "Gradient Boosting   6.589283  16.474342 -0.510563"
      ]
     },
     "metadata": {},
     "output_type": "display_data"
    },
    {
     "name": "stdout",
     "output_type": "stream",
     "text": [
      "Saved results to reports/tables/model_results.csv\n"
     ]
    }
   ],
   "source": [
    "# ---------- train/test split ----------\n",
    "X_train, X_test, y_train, y_test = train_test_split(X_final, y, test_size=0.2, random_state=42)\n",
    "\n",
    "# ---------- define models ----------\n",
    "from sklearn.linear_model import LinearRegression\n",
    "from sklearn.ensemble import RandomForestRegressor, GradientBoostingRegressor\n",
    "from sklearn.metrics import mean_absolute_error, mean_squared_error, r2_score\n",
    "import numpy as np  # Import numpy for square root calculation\n",
    "\n",
    "models = {\n",
    "    \"Linear Regression\": LinearRegression(),\n",
    "    \"Random Forest\": RandomForestRegressor(random_state=42, n_estimators=100),\n",
    "    \"Gradient Boosting\": GradientBoostingRegressor(random_state=42)\n",
    "}\n",
    "\n",
    "# ---------- train & evaluate ----------\n",
    "results = {}\n",
    "for name, model in models.items():\n",
    "    model.fit(X_train, y_train)\n",
    "    y_pred = model.predict(X_test)\n",
    "    results[name] = {\n",
    "        \"MAE\": mean_absolute_error(y_test, y_pred),\n",
    "        \"RMSE\": np.sqrt(mean_squared_error(y_test, y_pred)),  # Calculate RMSE manually\n",
    "        \"R2\": r2_score(y_test, y_pred)\n",
    "    }\n",
    "\n",
    "# ---------- summary table ----------\n",
    "results_df = pd.DataFrame(results).T\n",
    "display(results_df)\n",
    "results_df.to_csv(\"reports/tables/model_results.csv\")\n",
    "print(\"Saved results to reports/tables/model_results.csv\")"
   ]
  },
  {
   "cell_type": "markdown",
   "id": "b70d650b-54d3-4a14-a866-430414c238ed",
   "metadata": {},
   "source": [
    "# Assistant\n",
    "The error occurs because the `squared` parameter in the `mean_squared_error` function is not available in the version of scikit-learn you're using. This parameter was introduced in scikit-learn version 0.22.0.\n",
    "\n",
    "In older versions of scikit-learn, you need to calculate RMSE manually by taking the square root of MSE.\n",
    "\n",
    "Would you like me to provide the corrected code?"
   ]
  },
  {
   "cell_type": "code",
   "execution_count": 12,
   "id": "4d3173fa-f8a6-4e7a-9c37-e9422a8605ef",
   "metadata": {},
   "outputs": [
    {
     "data": {
      "text/html": [
       "<div>\n",
       "<style scoped>\n",
       "    .dataframe tbody tr th:only-of-type {\n",
       "        vertical-align: middle;\n",
       "    }\n",
       "\n",
       "    .dataframe tbody tr th {\n",
       "        vertical-align: top;\n",
       "    }\n",
       "\n",
       "    .dataframe thead th {\n",
       "        text-align: right;\n",
       "    }\n",
       "</style>\n",
       "<table border=\"1\" class=\"dataframe\">\n",
       "  <thead>\n",
       "    <tr style=\"text-align: right;\">\n",
       "      <th></th>\n",
       "      <th>MAE</th>\n",
       "      <th>RMSE</th>\n",
       "      <th>R2</th>\n",
       "    </tr>\n",
       "  </thead>\n",
       "  <tbody>\n",
       "    <tr>\n",
       "      <th>Linear Regression</th>\n",
       "      <td>19.181995</td>\n",
       "      <td>28.888850</td>\n",
       "      <td>-3.644972</td>\n",
       "    </tr>\n",
       "    <tr>\n",
       "      <th>Random Forest</th>\n",
       "      <td>5.618381</td>\n",
       "      <td>15.034011</td>\n",
       "      <td>-0.257976</td>\n",
       "    </tr>\n",
       "    <tr>\n",
       "      <th>Gradient Boosting</th>\n",
       "      <td>6.589283</td>\n",
       "      <td>16.474342</td>\n",
       "      <td>-0.510563</td>\n",
       "    </tr>\n",
       "  </tbody>\n",
       "</table>\n",
       "</div>"
      ],
      "text/plain": [
       "                         MAE       RMSE        R2\n",
       "Linear Regression  19.181995  28.888850 -3.644972\n",
       "Random Forest       5.618381  15.034011 -0.257976\n",
       "Gradient Boosting   6.589283  16.474342 -0.510563"
      ]
     },
     "metadata": {},
     "output_type": "display_data"
    },
    {
     "name": "stdout",
     "output_type": "stream",
     "text": [
      "Saved results to reports/tables/model_results.csv\n"
     ]
    }
   ],
   "source": [
    "# ---------- train/test split ----------\n",
    "X_train, X_test, y_train, y_test = train_test_split(X_final, y, test_size=0.2, random_state=42)\n",
    "\n",
    "# ---------- define models ----------\n",
    "from sklearn.linear_model import LinearRegression\n",
    "from sklearn.ensemble import RandomForestRegressor, GradientBoostingRegressor\n",
    "from sklearn.metrics import mean_absolute_error, mean_squared_error, r2_score\n",
    "import numpy as np  # Added import for np.sqrt\n",
    "\n",
    "models = {\n",
    "    \"Linear Regression\": LinearRegression(),\n",
    "    \"Random Forest\": RandomForestRegressor(random_state=42, n_estimators=100),\n",
    "    \"Gradient Boosting\": GradientBoostingRegressor(random_state=42)\n",
    "}\n",
    "\n",
    "# ---------- train & evaluate ----------\n",
    "results = {}\n",
    "for name, model in models.items():\n",
    "    model.fit(X_train, y_train)\n",
    "    y_pred = model.predict(X_test)\n",
    "    results[name] = {\n",
    "        \"MAE\": mean_absolute_error(y_test, y_pred),\n",
    "        \"RMSE\": np.sqrt(mean_squared_error(y_test, y_pred)),  # Changed to manually calculate RMSE\n",
    "        \"R2\": r2_score(y_test, y_pred)\n",
    "    }\n",
    "\n",
    "# ---------- summary table ----------\n",
    "results_df = pd.DataFrame(results).T\n",
    "display(results_df)\n",
    "results_df.to_csv(\"reports/tables/model_results.csv\")\n",
    "print(\"Saved results to reports/tables/model_results.csv\")"
   ]
  },
  {
   "cell_type": "code",
   "execution_count": 13,
   "id": "6393c4d9-c9e0-45d7-beb8-d7158e9b2d32",
   "metadata": {},
   "outputs": [
    {
     "data": {
      "image/png": "[encoded data removed]",
      "text/plain": [
       "<Figure size 800x500 with 1 Axes>"
      ]
     },
     "metadata": {},
     "output_type": "display_data"
    },
    {
     "name": "stdout",
     "output_type": "stream",
     "text": [
      "Saved figure: reports/figures/model_r2_comparison.png\n"
     ]
    }
   ],
   "source": [
    "plt.figure(figsize=(8,5))\n",
    "sns.barplot(data=results_df.reset_index(), x=\"index\", y=\"R2\")\n",
    "plt.title(\"Model Comparison (R²)\")\n",
    "plt.ylabel(\"R² Score\")\n",
    "plt.xlabel(\"Model\")\n",
    "plt.tight_layout()\n",
    "plt.savefig(\"reports/figures/model_r2_comparison.png\")\n",
    "plt.show()\n",
    "\n",
    "print(\"Saved figure: reports/figures/model_r2_comparison.png\")\n"
   ]
  },
  {
   "cell_type": "code",
   "execution_count": 14,
   "id": "393ba21d-97d7-42f4-9dbc-d7a3e1056e90",
   "metadata": {},
   "outputs": [
    {
     "name": "stdout",
     "output_type": "stream",
     "text": [
      "✅ PDF report saved: reports/pdf/social_media_climate_report.pdf\n"
     ]
    }
   ],
   "source": [
    "# ---------- PDF report ----------\n",
    "from reportlab.lib.pagesizes import A4\n",
    "from reportlab.platypus import SimpleDocTemplate, Paragraph, Spacer, Image\n",
    "from reportlab.lib.styles import getSampleStyleSheet\n",
    "\n",
    "pdf_path = \"reports/pdf/social_media_climate_report.pdf\"\n",
    "doc = SimpleDocTemplate(pdf_path, pagesize=A4)\n",
    "styles = getSampleStyleSheet()\n",
    "flowables = []\n",
    "\n",
    "# --- Title ---\n",
    "flowables.append(Paragraph(\"Social Media Climate Engagement Report\", styles['Title']))\n",
    "flowables.append(Spacer(1, 12))\n",
    "flowables.append(Paragraph(\"This report analyzes social media engagement on climate change posts.\", styles['Normal']))\n",
    "flowables.append(Spacer(1, 12))\n",
    "\n",
    "# --- Key metrics ---\n",
    "for model, metrics in results.items():\n",
    "    flowables.append(Paragraph(f\"<b>{model}</b>: {metrics}\", styles['Normal']))\n",
    "    flowables.append(Spacer(1, 12))\n",
    "\n",
    "# --- Add model comparison image ---\n",
    "try:\n",
    "    flowables.append(Image(\"reports/figures/model_r2_comparison.png\", width=400, height=250))\n",
    "except:\n",
    "    flowables.append(Paragraph(\"Visualization not found.\", styles['Normal']))\n",
    "\n",
    "# --- Build report ---\n",
    "doc.build(flowables)\n",
    "print(f\"✅ PDF report saved: {pdf_path}\")\n"
   ]
  },
  {
   "cell_type": "code",
   "execution_count": null,
   "id": "560af140-e5ee-4458-8132-b4fe818d00bf",
   "metadata": {},
   "outputs": [],
   "source": []
  }
 ],
 "metadata": {
  "kernelspec": {
   "display_name": "Python [conda env:base] *",
   "language": "python",
   "name": "conda-base-py"
  },
  "language_info": {
   "codemirror_mode": {
    "name": "ipython",
    "version": 3
   },
   "file_extension": ".py",
   "mimetype": "text/x-python",
   "name": "python",
   "nbconvert_exporter": "python",
   "pygments_lexer": "ipython3",
   "version": "3.13.5"
  }
 },
 "nbformat": 4,
 "nbformat_minor": 5
}
