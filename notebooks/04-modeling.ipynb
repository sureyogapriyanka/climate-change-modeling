{
 "cells": [
  {
   "cell_type": "code",
   "execution_count": 5,
   "id": "fa3136e2-4e5c-40ca-8977-0bfa127e3ba1",
   "metadata": {},
   "outputs": [],
   "source": [
    "import pandas as pd, numpy as np\n",
    "from pathlib import Path\n",
    "from sklearn.model_selection import train_test_split\n",
    "from sklearn.linear_model import LinearRegression\n",
    "from sklearn.ensemble import RandomForestRegressor, GradientBoostingRegressor\n",
    "from sklearn.metrics import mean_absolute_error, mean_squared_error, r2_score\n",
    "from sklearn.preprocessing import LabelEncoder\n",
    "from sklearn.feature_extraction.text import TfidfVectorizer\n",
    "from scipy.sparse import hstack\n",
    "import matplotlib.pyplot as plt, seaborn as sns\n"
   ]
  },
  {
   "cell_type": "code",
   "execution_count": 6,
   "id": "1a16d76a-5f7a-4e7c-a101-a03f0f6d1958",
   "metadata": {},
   "outputs": [
    {
     "name": "stdout",
     "output_type": "stream",
     "text": [
      "Final feature matrix: (522, 506)\n",
      "Target shape: (522,)\n"
     ]
    }
   ],
   "source": [
    "# ---------- load ----------\n",
    "csv_path = Path(r\"C:\\Users\\SIMBY\\Documents\\climate_nasa.csv\")\n",
    "df = pd.read_csv(csv_path)\n",
    "\n",
    "# ---------- handle missing ----------\n",
    "df['text'] = df['text'].fillna(\"\")\n",
    "df['profileName'] = df['profileName'].fillna(\"Unknown\")\n",
    "df['likesCount'] = df['likesCount'].fillna(0)\n",
    "df['commentsCount'] = df['commentsCount'].fillna(0)\n",
    "\n",
    "# ---------- date features ----------\n",
    "df['date'] = pd.to_datetime(df['date'], errors='coerce')\n",
    "df['year'] = df['date'].dt.year\n",
    "df['month'] = df['date'].dt.month\n",
    "df['day'] = df['date'].dt.day\n",
    "df['weekday'] = df['date'].dt.weekday\n",
    "\n",
    "# ---------- encode profile ----------\n",
    "encoder = LabelEncoder()\n",
    "df['profile_encoded'] = encoder.fit_transform(df['profileName'])\n",
    "\n",
    "# ---------- text vectorization ----------\n",
    "tfidf = TfidfVectorizer(max_features=500, stop_words='english')\n",
    "X_text = tfidf.fit_transform(df['text'])\n",
    "\n",
    "# ---------- final dataset ----------\n",
    "target = \"likesCount\"\n",
    "X_meta = df[['commentsCount','year','month','day','weekday','profile_encoded']]\n",
    "y = df[target]\n",
    "\n",
    "X_final = hstack([X_text, X_meta.values])\n",
    "\n",
    "print(\"Final feature matrix:\", X_final.shape)\n",
    "print(\"Target shape:\", y.shape)\n"
   ]
  },
  {
   "cell_type": "code",
   "execution_count": 7,
   "id": "598f954e-bd97-48b1-9eab-8d53ae7aa4b3",
   "metadata": {},
   "outputs": [
    {
     "name": "stdout",
     "output_type": "stream",
     "text": [
      "Training set: (417, 506) (417,)\n",
      "Test set: (105, 506) (105,)\n"
     ]
    }
   ],
   "source": [
    "X_train, X_test, y_train, y_test = train_test_split(\n",
    "    X_final, y, test_size=0.2, random_state=42\n",
    ")\n",
    "\n",
    "print(\"Training set:\", X_train.shape, y_train.shape)\n",
    "print(\"Test set:\", X_test.shape, y_test.shape)\n"
   ]
  },
  {
   "cell_type": "code",
   "execution_count": 8,
   "id": "cf90e3aa-a9d5-490a-bd9a-0d03515a9df7",
   "metadata": {},
   "outputs": [],
   "source": [
    "models = {\n",
    "    \"Linear Regression\": LinearRegression(),\n",
    "    \"Random Forest\": RandomForestRegressor(random_state=42, n_estimators=100),\n",
    "    \"Gradient Boosting\": GradientBoostingRegressor(random_state=42)\n",
    "}\n"
   ]
  },
  {
   "cell_type": "code",
   "execution_count": 13,
   "id": "1409d7f8-40a2-4634-832e-10f3e4d65f49",
   "metadata": {},
   "outputs": [
    {
     "name": "stdout",
     "output_type": "stream",
     "text": [
      "\n",
      "Linear Regression Results:\n",
      "MAE: 19.1820\n",
      "RMSE: 28.8888\n",
      "R2: -3.6450\n",
      "\n",
      "Random Forest Results:\n",
      "MAE: 5.6184\n",
      "RMSE: 15.0340\n",
      "R2: -0.2580\n",
      "\n",
      "Gradient Boosting Results:\n",
      "MAE: 6.5893\n",
      "RMSE: 16.4743\n",
      "R2: -0.5106\n"
     ]
    }
   ],
   "source": [
    "import numpy as np\n",
    "from sklearn.metrics import mean_absolute_error, mean_squared_error, r2_score\n",
    "\n",
    "results = {}\n",
    "\n",
    "for name, model in models.items():\n",
    "    model.fit(X_train, y_train)\n",
    "    y_pred = model.predict(X_test)\n",
    "\n",
    "    # Calculate RMSE manually by taking the square root of MSE\n",
    "    # This works with older versions of scikit-learn that don't have the squared parameter\n",
    "    results[name] = {\n",
    "        \"MAE\": mean_absolute_error(y_test, y_pred),\n",
    "        \"RMSE\": np.sqrt(mean_squared_error(y_test, y_pred)),  # Take square root manually\n",
    "        \"R2\": r2_score(y_test, y_pred)\n",
    "    }\n",
    "\n",
    "    print(f\"\\n{name} Results:\")\n",
    "    for metric, val in results[name].items():\n",
    "        print(f\"{metric}: {val:.4f}\")"
   ]
  },
  {
   "cell_type": "code",
   "execution_count": 14,
   "id": "5f53131f-e2be-46ca-9256-c123cf403698",
   "metadata": {},
   "outputs": [
    {
     "data": {
      "text/html": [
       "<div>\n",
       "<style scoped>\n",
       "    .dataframe tbody tr th:only-of-type {\n",
       "        vertical-align: middle;\n",
       "    }\n",
       "\n",
       "    .dataframe tbody tr th {\n",
       "        vertical-align: top;\n",
       "    }\n",
       "\n",
       "    .dataframe thead th {\n",
       "        text-align: right;\n",
       "    }\n",
       "</style>\n",
       "<table border=\"1\" class=\"dataframe\">\n",
       "  <thead>\n",
       "    <tr style=\"text-align: right;\">\n",
       "      <th></th>\n",
       "      <th>MAE</th>\n",
       "      <th>RMSE</th>\n",
       "      <th>R2</th>\n",
       "    </tr>\n",
       "  </thead>\n",
       "  <tbody>\n",
       "    <tr>\n",
       "      <th>Linear Regression</th>\n",
       "      <td>19.181995</td>\n",
       "      <td>28.888850</td>\n",
       "      <td>-3.644972</td>\n",
       "    </tr>\n",
       "    <tr>\n",
       "      <th>Random Forest</th>\n",
       "      <td>5.618381</td>\n",
       "      <td>15.034011</td>\n",
       "      <td>-0.257976</td>\n",
       "    </tr>\n",
       "    <tr>\n",
       "      <th>Gradient Boosting</th>\n",
       "      <td>6.589283</td>\n",
       "      <td>16.474342</td>\n",
       "      <td>-0.510563</td>\n",
       "    </tr>\n",
       "  </tbody>\n",
       "</table>\n",
       "</div>"
      ],
      "text/plain": [
       "                         MAE       RMSE        R2\n",
       "Linear Regression  19.181995  28.888850 -3.644972\n",
       "Random Forest       5.618381  15.034011 -0.257976\n",
       "Gradient Boosting   6.589283  16.474342 -0.510563"
      ]
     },
     "metadata": {},
     "output_type": "display_data"
    },
    {
     "data": {
      "image/png": "[encoded data removed]",
      "text/plain": [
       "<Figure size 800x500 with 1 Axes>"
      ]
     },
     "metadata": {},
     "output_type": "display_data"
    }
   ],
   "source": [
    "results_df = pd.DataFrame(results).T\n",
    "display(results_df)\n",
    "\n",
    "plt.figure(figsize=(8,5))\n",
    "sns.barplot(data=results_df.reset_index(), x=\"index\", y=\"R2\")\n",
    "plt.title(\"Model Comparison (R² Score)\")\n",
    "plt.ylabel(\"R²\")\n",
    "plt.xlabel(\"Model\")\n",
    "plt.show()\n"
   ]
  },
  {
   "cell_type": "code",
   "execution_count": null,
   "id": "a359ac3e-5ee9-4dbd-86ed-4405dba1d809",
   "metadata": {},
   "outputs": [],
   "source": []
  }
 ],
 "metadata": {
  "kernelspec": {
   "display_name": "Python [conda env:base] *",
   "language": "python",
   "name": "conda-base-py"
  },
  "language_info": {
   "codemirror_mode": {
    "name": "ipython",
    "version": 3
   },
   "file_extension": ".py",
   "mimetype": "text/x-python",
   "name": "python",
   "nbconvert_exporter": "python",
   "pygments_lexer": "ipython3",
   "version": "3.13.5"
  }
 },
 "nbformat": 4,
 "nbformat_minor": 5
}
